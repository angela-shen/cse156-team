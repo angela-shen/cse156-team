{
 "cells": [
  {
   "cell_type": "code",
   "execution_count": 15,
   "id": "cbc935fa-3ff4-4ed7-ad9a-9ef18c15224d",
   "metadata": {
    "colab": {
     "base_uri": "https://localhost:8080/"
    },
    "id": "cbc935fa-3ff4-4ed7-ad9a-9ef18c15224d",
    "outputId": "356d9224-20b6-476a-8ff9-6cf5caf6f8a0"
   },
   "outputs": [
    {
     "name": "stdout",
     "output_type": "stream",
     "text": [
      "[\n",
      "    {\n",
      "        \"id\": \"2bc9c4f9c19c167187f2\",\n",
      "        \"term\": \"Genghis Khan\",\n",
      "        \"description\": \"founder and first Great Khan of the Mongol Empire\",\n",
      "        \"question\": \"Are more people today related to Genghis Khan than Julius Caesar?\",\n",
      "        \"answer\": true,\n",
      "        \"facts\": [\n",
      "            \"Julius Caesar had three children.\",\n",
      "            \"Genghis Khan had sixteen children.\",\n",
      "            \"Modern geneticists have determined that  out of every 200 men today has DNA that can be traced to Genghis Khan.\"\n",
      "        ],\n",
      "        \"decomposition\": [\n",
      "            \"How many kids did Julius Caesar have?\",\n",
      "            \"How many kids did Genghis Khan have?\",\n",
      "            \"Is #2 greater than #1?\"\n",
      "        ],\n",
      "        \"evidence\": [\n",
      "            \"Caesarion-2\",\n",
      "            \"Julia (daughter of Caesar)-1\",\n",
      "            \"Julius Caesar-75\",\n",
      "            \"Gaius Julius Caesar-7\"\n",
      "        ]\n",
      "    },\n",
      "    {\n",
      "        \"id\": \"03caf265939fab701dee\",\n",
      "        \"term\": \"The Police\",\n",
      "        \"description\": \"English rock band\",\n",
      "        \"question\": \"Could the members of The Police perform lawful arrests?\",\n",
      "        \"answer\": false,\n",
      "        \"facts\": [\n",
      "            \"The members of The Police were musicians, not law enforcement officers.\",\n",
      "            \"Only law enforcement officers can perform lawful arrests.\"\n",
      "        ],\n",
      "        \"decomposition\": [\n",
      "            \"Who can perform lawful arrests?\",\n",
      "            \"Are members of The Police also #1?\"\n",
      "        ],\n",
      "        \"evidence\": [\n",
      "            \"Arrest-2\",\n",
      "            \"Arrest-7\",\n",
      "            \"Law enforcement officer-13\",\n",
      "            \"Lawful interception-28\"\n",
      "        ]\n",
      "    }\n",
      "]\n",
      "2061\n"
     ]
    }
   ],
   "source": [
    "import json\n",
    "\n",
    "# Path to the dataset\n",
    "# train_file_path = \"/content/drive/MyDrive/your_path/train.json\"\n",
    "train_file_path = \"train.json\"\n",
    "\n",
    "def flatten_evidence(evidence):\n",
    "    flattened = []\n",
    "    for item in evidence:\n",
    "        try:\n",
    "            while isinstance(item[0], list):\n",
    "                item = item[0]\n",
    "            for evidence_item in item:\n",
    "                flattened.append(evidence_item)\n",
    "        except:\n",
    "            continue\n",
    "    return flattened\n",
    "\n",
    "# Load and parse the dataset\n",
    "def load_strategyqa_train_data(file_path):\n",
    "    with open(file_path, \"r\", encoding=\"utf-8\") as file:\n",
    "        data = json.load(file)  # Load JSON file\n",
    "\n",
    "    train_data = []\n",
    "\n",
    "    for item in data:\n",
    "        parsed_entry = {\n",
    "            \"id\": item.get(\"qid\", \"\"),\n",
    "            \"term\": item.get(\"term\", \"\"),         # Extract term\n",
    "            \"description\": item.get(\"description\", \"\"),  # Extract description\n",
    "            \"question\": item[\"question\"],         # Extract question\n",
    "            \"answer\": item[\"answer\"],             # Extract answer (True/False)\n",
    "            \"facts\": item.get(\"facts\", []),         # Extract facts\n",
    "            \"decomposition\": item.get(\"decomposition\", []),  # Extract decomposition\n",
    "            \"evidence\": flatten_evidence(item.get(\"evidence\", []))  # Extract evidence\n",
    "        }\n",
    "        train_data.append(parsed_entry)\n",
    "\n",
    "    return train_data\n",
    "\n",
    "# Load the training data\n",
    "train_data = load_strategyqa_train_data(train_file_path)\n",
    "\n",
    "# Print a sample entry for verification\n",
    "print(json.dumps(train_data[:2], indent=4))\n",
    "print(len(train_data))\n"
   ]
  },
  {
   "cell_type": "code",
   "execution_count": 16,
   "id": "46063c1b-5907-42d9-961e-b6b876c55ea1",
   "metadata": {
    "id": "46063c1b-5907-42d9-961e-b6b876c55ea1"
   },
   "outputs": [],
   "source": [
    "from transformers import AutoTokenizer\n",
    "from torch.utils.data import Dataset, DataLoader\n",
    "import torch\n",
    "import torch.nn as nn\n",
    "\n",
    "# Use GPT-Neo 125M public model\n",
    "tokenizer = AutoTokenizer.from_pretrained(\"EleutherAI/gpt-neo-125M\", add_prefix_space=True)\n",
    "if tokenizer.pad_token is None:\n",
    "    tokenizer.pad_token = tokenizer.eos_token\n",
    "\n",
    "class QuestionDataset(Dataset):\n",
    "    def __init__(self, data, tokenizer, max_len=512):\n",
    "        self.data = data\n",
    "        self.tokenizer = tokenizer\n",
    "        self.max_len = max_len\n",
    "\n",
    "        # Add a special token to separate decomposition and evidence\n",
    "        self.sep_token = \"[SEP]\"\n",
    "        if self.sep_token not in self.tokenizer.get_vocab():\n",
    "            self.tokenizer.add_tokens([self.sep_token])\n",
    "            self.tokenizer.model_max_length = self.max_len\n",
    "            self.tokenizer.init_kwargs['model_max_length'] = self.max_len\n",
    "\n",
    "    def __len__(self):\n",
    "        return len(self.data)\n",
    "\n",
    "    def __getitem__(self, index):\n",
    "        item = self.data[index]\n",
    "        id = item['id']\n",
    "        question = item[\"question\"]\n",
    "        term = item[\"term\"]\n",
    "        description = item[\"description\"]\n",
    "        facts = \" \".join(item[\"facts\"])\n",
    "        decomposition = item[\"decomposition\"]\n",
    "        evidence = item[\"evidence\"]\n",
    "\n",
    "        # Combine inputs (question, term, description, facts)\n",
    "        combined_input = f\"{question} {term} {description} {facts}\"\n",
    "\n",
    "        # Tokenize the input\n",
    "        encoding = self.tokenizer(\n",
    "            combined_input,\n",
    "            padding=\"max_length\",\n",
    "            truncation=True,\n",
    "            max_length=self.max_len,\n",
    "            return_tensors=\"pt\"\n",
    "        )\n",
    "\n",
    "        # Binary answer label\n",
    "        answer_label = 1 if item[\"answer\"] else 0\n",
    "        answer_label = torch.tensor(answer_label, dtype=torch.float)\n",
    "\n",
    "        # Prepare labels by concatenating decomposition and evidence\n",
    "        label = \"\"\n",
    "        for d in decomposition:\n",
    "            label += d + \" \"\n",
    "        label += self.sep_token\n",
    "        for e in evidence:\n",
    "            label += \"|\" + e\n",
    "\n",
    "        # Tokenize the label (no is_split_into_words flag now)\n",
    "        combined_labels = self.tokenizer(\n",
    "            label,\n",
    "            padding=\"max_length\",\n",
    "            truncation=True,\n",
    "            max_length=self.max_len,\n",
    "            return_tensors=\"pt\"\n",
    "        )[\"input_ids\"].squeeze(0)\n",
    "\n",
    "        # Validate label values against vocabulary size\n",
    "        vocab_size = len(self.tokenizer)\n",
    "        if (combined_labels >= vocab_size).any():\n",
    "            raise ValueError(f\"Invalid label value found. Label values must be less than {vocab_size}.\")\n",
    "\n",
    "        return {\n",
    "            \"id\": id,\n",
    "            \"input_ids\": encoding[\"input_ids\"].squeeze(0),\n",
    "            \"attention_mask\": encoding[\"attention_mask\"].squeeze(0),\n",
    "            \"answer_label\": answer_label,\n",
    "            \"labels\": combined_labels  # Combined decomposition and evidence\n",
    "        }\n",
    "\n",
    "# Create the training dataset and loader\n",
    "train_dataset = QuestionDataset(train_data, tokenizer)\n",
    "train_loader = DataLoader(train_dataset, batch_size=8, shuffle=True)\n"
   ]
  },
  {
   "cell_type": "code",
   "execution_count": 17,
   "id": "93e048e2-6991-47a4-beff-0b8a26ca3fd4",
   "metadata": {
    "colab": {
     "base_uri": "https://localhost:8080/"
    },
    "id": "93e048e2-6991-47a4-beff-0b8a26ca3fd4",
    "outputId": "2a21ad96-4045-4b28-c613-005cfd30494d"
   },
   "outputs": [
    {
     "name": "stdout",
     "output_type": "stream",
     "text": [
      " What is the native range of wolverines? What state is Miami located in? Is #2 included in #1? [SEP] |Wolverine-16|Wolverine-2|Wolverine-2\n",
      "torch.Size([512])\n",
      "229\n"
     ]
    }
   ],
   "source": [
    "# Print decoded labels to verify the output\n",
    "print(tokenizer.decode(next(iter(train_loader))[\"labels\"][0], skip_special_tokens=True))\n",
    "print(next(iter(train_loader))[\"labels\"][0].shape)\n",
    "\n",
    "# For validation, load the dev set (update path if needed)\n",
    "val_data = 'dev.json'\n",
    "val_data = load_strategyqa_train_data(val_data)\n",
    "val_dataset = QuestionDataset(val_data, tokenizer)\n",
    "val_loader = DataLoader(val_dataset, batch_size=8, shuffle=False)\n",
    "print(len(val_dataset))\n"
   ]
  },
  {
   "cell_type": "code",
   "execution_count": 18,
   "id": "b2f07b43-148b-41f3-9072-3ae014a7b56b",
   "metadata": {
    "id": "b2f07b43-148b-41f3-9072-3ae014a7b56b"
   },
   "outputs": [],
   "source": [
    "import torch\n",
    "import torch.nn as nn\n",
    "from transformers import AutoModelForCausalLM, AutoTokenizer\n",
    "\n",
    "class GPTNeoMultiTaskWrapper(nn.Module):\n",
    "    def __init__(self, model_name=\"EleutherAI/gpt-neo-125M\", max_len=512):\n",
    "        super(GPTNeoMultiTaskWrapper, self).__init__()\n",
    "        self.gptneo = AutoModelForCausalLM.from_pretrained(model_name)\n",
    "        self.tokenizer = AutoTokenizer.from_pretrained(model_name, add_prefix_space=True)\n",
    "        self.max_len = max_len\n",
    "\n",
    "        # Add special token if not present\n",
    "        self.sep_token = \"[SEP]\"\n",
    "        if self.sep_token not in self.tokenizer.get_vocab():\n",
    "            self.tokenizer.add_tokens([self.sep_token])\n",
    "            self.gptneo.resize_token_embeddings(len(self.tokenizer))\n",
    "\n",
    "        if self.tokenizer.pad_token is None:\n",
    "            self.tokenizer.pad_token = self.tokenizer.eos_token\n",
    "\n",
    "        # Additional layers for classification task\n",
    "        self.fc1 = nn.Linear(self.gptneo.config.vocab_size, self.max_len)\n",
    "        self.fc2 = nn.Linear(self.max_len, 128)\n",
    "        self.fc3 = nn.Linear(128, 1)\n",
    "        self.relu = nn.ReLU()\n",
    "        self.sigmoid = nn.Sigmoid()\n",
    "\n",
    "    def forward_generate(self, input_ids, attention_mask):\n",
    "        outputs = self.gptneo(input_ids=input_ids, attention_mask=attention_mask)\n",
    "        return outputs.logits\n",
    "\n",
    "    def forward_classify(self, input_ids, attention_mask):\n",
    "        generate_outputs = self.forward_generate(input_ids, attention_mask)\n",
    "        fc1_output = self.relu(self.fc1(generate_outputs))\n",
    "        fc2_output = self.relu(self.fc2(fc1_output))\n",
    "        fc3_output = self.sigmoid(self.fc3(fc2_output))\n",
    "        final_output = fc3_output.mean(dim=1)\n",
    "        return generate_outputs, final_output\n",
    "\n",
    "    def generate(self, input_ids, attention_mask, max_new_tokens=128):\n",
    "        generated_ids = self.gptneo.generate(\n",
    "            input_ids=input_ids,\n",
    "            attention_mask=attention_mask,\n",
    "            max_new_tokens=max_new_tokens,\n",
    "            num_return_sequences=1\n",
    "        )\n",
    "        return self.tokenizer.batch_decode(generated_ids, skip_special_tokens=True)\n"
   ]
  },
  {
   "cell_type": "code",
   "execution_count": 19,
   "id": "64937fc7-fd99-4579-a2d1-6e1d22df08f0",
   "metadata": {
    "id": "64937fc7-fd99-4579-a2d1-6e1d22df08f0"
   },
   "outputs": [],
   "source": [
    "from sklearn.metrics import accuracy_score\n",
    "\n",
    "def train_generation(model, dataloader, optimizer, device, epochs=3):\n",
    "    \"\"\"\n",
    "    Train the model on the generation task.\n",
    "    \"\"\"\n",
    "    # Ensure language model parameters are trainable\n",
    "    for param in model.gptneo.parameters():\n",
    "        param.requires_grad = True\n",
    "\n",
    "    # Freeze classification layers during generation training\n",
    "    for param in model.fc1.parameters():\n",
    "        param.requires_grad = False\n",
    "    for param in model.fc2.parameters():\n",
    "        param.requires_grad = False\n",
    "    for param in model.fc3.parameters():\n",
    "        param.requires_grad = False\n",
    "\n",
    "    model.train()\n",
    "    train_losses = []\n",
    "\n",
    "    for epoch in range(epochs):\n",
    "        epoch_loss = 0.0\n",
    "        for batch in dataloader:\n",
    "            input_ids = batch[\"input_ids\"].to(device)\n",
    "            attention_mask = batch[\"attention_mask\"].to(device)\n",
    "            labels = batch[\"labels\"].to(device)\n",
    "\n",
    "            optimizer.zero_grad()\n",
    "            generate_outputs = model.forward_generate(input_ids, attention_mask)\n",
    "\n",
    "            loss = nn.CrossEntropyLoss()(\n",
    "                generate_outputs.view(-1, generate_outputs.size(-1)),\n",
    "                labels.view(-1)\n",
    "            )\n",
    "\n",
    "            loss.backward()\n",
    "            optimizer.step()\n",
    "            epoch_loss += loss.item()\n",
    "\n",
    "        avg_epoch_loss = epoch_loss / len(dataloader)\n",
    "        train_losses.append(avg_epoch_loss)\n",
    "        print(f\"Epoch {epoch + 1}/{epochs}, Loss: {avg_epoch_loss}\")\n",
    "\n",
    "    return train_losses\n",
    "\n",
    "def train_classification(model, train_dataloader, val_dataloader, optimizer, device, epochs=3):\n",
    "    \"\"\"\n",
    "    Train the model on the classification task.\n",
    "    \"\"\"\n",
    "    # Freeze language model parameters\n",
    "    for param in model.gptneo.parameters():\n",
    "        param.requires_grad = False\n",
    "\n",
    "    # Ensure classification layers are trainable\n",
    "    for param in model.fc1.parameters():\n",
    "        param.requires_grad = True\n",
    "    for param in model.fc2.parameters():\n",
    "        param.requires_grad = True\n",
    "    for param in model.fc3.parameters():\n",
    "        param.requires_grad = True\n",
    "\n",
    "    model.train()\n",
    "    train_losses = []\n",
    "    train_accs = []\n",
    "    val_accs = []\n",
    "\n",
    "    for epoch in range(epochs):\n",
    "        epoch_loss = 0.0\n",
    "        all_preds = []\n",
    "        all_labels = []\n",
    "\n",
    "        for batch in train_dataloader:\n",
    "            input_ids = batch[\"input_ids\"].to(device)\n",
    "            attention_mask = batch[\"attention_mask\"].to(device)\n",
    "            answer_labels = batch[\"answer_label\"].to(device)\n",
    "\n",
    "            optimizer.zero_grad()\n",
    "            _, classify_outputs = model.forward_classify(input_ids, attention_mask)\n",
    "\n",
    "            loss = nn.BCELoss()(classify_outputs.squeeze(), answer_labels)\n",
    "            loss.backward()\n",
    "            optimizer.step()\n",
    "\n",
    "            epoch_loss += loss.item()\n",
    "            preds = (classify_outputs.squeeze() > 0.5).float()\n",
    "            all_preds.extend(preds.cpu().numpy())\n",
    "            all_labels.extend(answer_labels.cpu().numpy())\n",
    "\n",
    "        train_acc = accuracy_score(all_labels, all_preds)\n",
    "        train_accs.append(train_acc)\n",
    "        avg_epoch_loss = epoch_loss / len(train_dataloader)\n",
    "        train_losses.append(avg_epoch_loss)\n",
    "        val_acc = evaluate(model, val_dataloader, device)\n",
    "        val_accs.append(val_acc)\n",
    "        print(f\"Epoch {epoch + 1}/{epochs}, Loss: {avg_epoch_loss}, Train Acc: {train_acc}, Val Acc: {val_acc}\")\n",
    "\n",
    "    return train_losses, train_accs, val_accs\n",
    "\n",
    "def evaluate(model, dataloader, device):\n",
    "    model.eval()\n",
    "    all_preds = []\n",
    "    all_labels = []\n",
    "    with torch.no_grad():\n",
    "        for batch in dataloader:\n",
    "            input_ids = batch[\"input_ids\"].to(device)\n",
    "            attention_mask = batch[\"attention_mask\"].to(device)\n",
    "            answer_labels = batch[\"answer_label\"].to(device)\n",
    "            _, classify_outputs = model.forward_classify(input_ids, attention_mask)\n",
    "            preds = (classify_outputs.squeeze() > 0.5).float()\n",
    "            all_preds.extend(preds.cpu().numpy())\n",
    "            all_labels.extend(answer_labels.cpu().numpy())\n",
    "    return accuracy_score(all_labels, all_preds)\n"
   ]
  },
  {
   "cell_type": "code",
   "execution_count": 20,
   "id": "d96dde28-ed86-45da-8e10-105c56db960a",
   "metadata": {
    "colab": {
     "base_uri": "https://localhost:8080/"
    },
    "id": "d96dde28-ed86-45da-8e10-105c56db960a",
    "outputId": "29ceb83c-732e-4310-d7c8-81b32189ff08"
   },
   "outputs": [
    {
     "name": "stdout",
     "output_type": "stream",
     "text": [
      "cuda\n"
     ]
    },
    {
     "data": {
      "application/vnd.jupyter.widget-view+json": {
       "model_id": "e447ce3ac31847288a77a5b082c1c512",
       "version_major": 2,
       "version_minor": 0
      },
      "text/plain": [
       "config.json:   0%|          | 0.00/1.01k [00:00<?, ?B/s]"
      ]
     },
     "metadata": {},
     "output_type": "display_data"
    },
    {
     "name": "stderr",
     "output_type": "stream",
     "text": [
      "2025-03-18 04:37:10.355575: E external/local_xla/xla/stream_executor/cuda/cuda_dnn.cc:9261] Unable to register cuDNN factory: Attempting to register factory for plugin cuDNN when one has already been registered\n",
      "2025-03-18 04:37:10.355627: E external/local_xla/xla/stream_executor/cuda/cuda_fft.cc:607] Unable to register cuFFT factory: Attempting to register factory for plugin cuFFT when one has already been registered\n",
      "2025-03-18 04:37:10.356779: E external/local_xla/xla/stream_executor/cuda/cuda_blas.cc:1515] Unable to register cuBLAS factory: Attempting to register factory for plugin cuBLAS when one has already been registered\n",
      "2025-03-18 04:37:10.365290: I tensorflow/core/platform/cpu_feature_guard.cc:182] This TensorFlow binary is optimized to use available CPU instructions in performance-critical operations.\n",
      "To enable the following instructions: AVX2 FMA, in other operations, rebuild TensorFlow with the appropriate compiler flags.\n"
     ]
    },
    {
     "data": {
      "application/vnd.jupyter.widget-view+json": {
       "model_id": "7f641cfb32074cf79362a9ad8a741140",
       "version_major": 2,
       "version_minor": 0
      },
      "text/plain": [
       "model.safetensors:   0%|          | 0.00/526M [00:00<?, ?B/s]"
      ]
     },
     "metadata": {},
     "output_type": "display_data"
    },
    {
     "data": {
      "application/vnd.jupyter.widget-view+json": {
       "model_id": "a88fc6ef4e4c49f4a07811642cd504b8",
       "version_major": 2,
       "version_minor": 0
      },
      "text/plain": [
       "generation_config.json:   0%|          | 0.00/119 [00:00<?, ?B/s]"
      ]
     },
     "metadata": {},
     "output_type": "display_data"
    },
    {
     "name": "stderr",
     "output_type": "stream",
     "text": [
      "The new embeddings will be initialized from a multivariate normal distribution that has old embeddings' mean and covariance. As described in this article: https://nlp.stanford.edu/~johnhew/vocab-expansion.html. To disable this, use `mean_resizing=False`\n"
     ]
    }
   ],
   "source": [
    "from torch.optim import AdamW\n",
    "device = torch.device(\"cuda\" if torch.cuda.is_available() else \"cpu\")\n",
    "print(device)\n",
    "\n",
    "model = GPTNeoMultiTaskWrapper(model_name=\"EleutherAI/gpt-neo-125M\")\n",
    "model.to(device)\n",
    "optimizer = AdamW(model.parameters(), lr=5e-5)\n"
   ]
  },
  {
   "cell_type": "code",
   "execution_count": 21,
   "id": "1d0b39f5-bddf-42de-b6b2-35655a2f5fca",
   "metadata": {
    "id": "1d0b39f5-bddf-42de-b6b2-35655a2f5fca"
   },
   "outputs": [
    {
     "name": "stdout",
     "output_type": "stream",
     "text": [
      "Epoch 1/15, Loss: 0.9401381159013555\n",
      "Epoch 2/15, Loss: 0.6773982329886089\n",
      "Epoch 3/15, Loss: 0.6146886394929516\n",
      "Epoch 4/15, Loss: 0.580781712088474\n",
      "Epoch 5/15, Loss: 0.5517451201760492\n",
      "Epoch 6/15, Loss: 0.5246807491594507\n",
      "Epoch 7/15, Loss: 0.502447530280712\n",
      "Epoch 8/15, Loss: 0.4817375805257827\n",
      "Epoch 9/15, Loss: 0.4633293616217236\n",
      "Epoch 10/15, Loss: 0.4459662184465763\n",
      "Epoch 11/15, Loss: 0.4301436952380247\n",
      "Epoch 12/15, Loss: 0.4157841571772745\n",
      "Epoch 13/15, Loss: 0.40065551243087116\n",
      "Epoch 14/15, Loss: 0.389675746014876\n",
      "Epoch 15/15, Loss: 0.3773938512155252\n"
     ]
    },
    {
     "data": {
      "image/png": "[encoded data removed]",
      "text/plain": [
       "<Figure size 640x480 with 1 Axes>"
      ]
     },
     "metadata": {},
     "output_type": "display_data"
    },
    {
     "name": "stdout",
     "output_type": "stream",
     "text": [
      "Epoch 1/5, Loss: 53.1440870355266, Train Acc: 0.4657933042212518, Val Acc: 0.4672489082969432\n",
      "Epoch 2/5, Loss: 53.29457364341085, Train Acc: 0.46773410965550705, Val Acc: 0.4672489082969432\n",
      "Epoch 3/5, Loss: 53.207364341085274, Train Acc: 0.46773410965550705, Val Acc: 0.4672489082969432\n",
      "Epoch 4/5, Loss: 53.17829457364341, Train Acc: 0.46773410965550705, Val Acc: 0.4672489082969432\n",
      "Epoch 5/5, Loss: 53.29457364341085, Train Acc: 0.46773410965550705, Val Acc: 0.4672489082969432\n"
     ]
    }
   ],
   "source": [
    "import gc\n",
    "import matplotlib.pyplot as plt\n",
    "gc.collect()\n",
    "torch.cuda.empty_cache()\n",
    "\n",
    "# Train generation task\n",
    "train_losses_generation = train_generation(model, train_loader, optimizer, device, epochs=15)\n",
    "\n",
    "def plot_gen(losses):\n",
    "    fig, ax1 = plt.subplots()\n",
    "    color = 'red'\n",
    "    ax1.set_xlabel('Epoch')\n",
    "    ax1.set_ylabel('Loss', color=color)\n",
    "    ax1.plot(losses, color=color, label='Training Loss')\n",
    "    ax1.tick_params(axis='y', labelcolor=color)\n",
    "    plt.show()\n",
    "\n",
    "plot_gen(train_losses_generation)\n",
    "\n",
    "# Train classification task\n",
    "train_losses, train_accs, val_accs = train_classification(model, train_loader, val_loader, optimizer, device, epochs=5)\n"
   ]
  },
  {
   "cell_type": "code",
   "execution_count": 22,
   "id": "a530d2b8-9871-4b3c-a8db-7c0f6e8e228e",
   "metadata": {
    "id": "a530d2b8-9871-4b3c-a8db-7c0f6e8e228e",
    "outputId": "d791b6f8-df7f-4122-bf33-03cafefc13ef"
   },
   "outputs": [
    {
     "data": {
      "image/png": "[encoded data removed]",
      "text/plain": [
       "<Figure size 640x480 with 2 Axes>"
      ]
     },
     "metadata": {},
     "output_type": "display_data"
    }
   ],
   "source": [
    "import matplotlib.pyplot as plt\n",
    "def plot_results(losses, train_accs, val_accs):\n",
    "    fig, ax1 = plt.subplots()\n",
    "    color = 'red'\n",
    "    ax1.set_xlabel('Epoch')\n",
    "    ax1.set_ylabel('Loss', color=color)\n",
    "    ax1.plot(losses, color=color, label='Training Loss')\n",
    "    ax1.tick_params(axis='y', labelcolor=color)\n",
    "    for i, loss in enumerate(losses):\n",
    "        ax1.annotate(f'{loss:.4f}', (i, loss), textcoords=\"offset points\", xytext=(0, 5), ha='center', fontsize=8)\n",
    "    ax2 = ax1.twinx()\n",
    "    color = 'blue'\n",
    "    ax2.set_ylabel('Accuracy', color=color)\n",
    "    ax2.plot(train_accs, color='green', label='Training Accuracy')\n",
    "    ax2.plot(val_accs, color='blue', label='Validation Accuracy')\n",
    "    ax2.tick_params(axis='y', labelcolor=color)\n",
    "    for i, train_acc, val_acc in zip(range(len(train_accs)), train_accs, val_accs):\n",
    "        ax2.annotate(f'{train_acc:.4f}', (i, train_acc), textcoords=\"offset points\", xytext=(0, 5), ha='center', fontsize=8, color='green')\n",
    "        ax2.annotate(f'{val_acc:.4f}', (i, val_acc), textcoords=\"offset points\", xytext=(0, 5), ha='center', fontsize=8, color='blue')\n",
    "    fig.tight_layout()\n",
    "    fig.legend(loc='upper right', bbox_to_anchor=(1, 1), bbox_transform=ax1.transAxes)\n",
    "    plt.show()\n",
    "\n",
    "plot_results(train_losses, train_accs, val_accs)\n"
   ]
  },
  {
   "cell_type": "code",
   "execution_count": null,
   "id": "tiQ2IunLd2JZ",
   "metadata": {
    "id": "tiQ2IunLd2JZ"
   },
   "outputs": [],
   "source": [
    "def plot_gen(losses):\n",
    "  fig, ax1 = plt.subplots()\n",
    "\n",
    "  # Plot Losses\n",
    "  color = 'red'\n",
    "  ax1.set_xlabel('Epoch')\n",
    "  ax1.set_ylabel('Loss', color=color)\n",
    "  ax1.plot(losses, color=color, label='Training Loss')  # Add label for legend\n",
    "  ax1.tick_params(axis='y', labelcolor=color)\n",
    "  plt.show()\n",
    "plot_gen(train_losses_generation)"
   ]
  },
  {
   "cell_type": "code",
   "execution_count": 23,
   "id": "328fc57f-4091-4236-b7f9-1dd2c5fc859c",
   "metadata": {
    "id": "328fc57f-4091-4236-b7f9-1dd2c5fc859c",
    "outputId": "fccdc161-b747-4e6e-cedf-237b5d890699"
   },
   "outputs": [
    {
     "name": "stdout",
     "output_type": "stream",
     "text": [
      "torch.Size([8, 1])\n",
      "tensor([[1.],\n",
      "        [1.],\n",
      "        [1.],\n",
      "        [1.],\n",
      "        [1.],\n",
      "        [1.],\n",
      "        [1.],\n",
      "        [1.]], device='cuda:0') tensor([0., 1., 0., 1., 0., 0., 0., 1.], device='cuda:0')\n"
     ]
    }
   ],
   "source": [
    "a = next(iter(val_loader))\n",
    "model.eval()\n",
    "with torch.no_grad():\n",
    "    input_ids = a[\"input_ids\"].to(device)\n",
    "    attention_mask = a[\"attention_mask\"].to(device)\n",
    "    labels = a[\"answer_label\"].to(device)\n",
    "    _, outputs = model.forward_classify(input_ids, attention_mask)\n",
    "    print(outputs.shape)\n",
    "    predicted = (outputs > 0.5).float()\n",
    "    print(predicted, labels)\n"
   ]
  },
  {
   "cell_type": "code",
   "execution_count": 24,
   "id": "23cf20b8-478d-4a76-a730-328449a98a4e",
   "metadata": {
    "id": "23cf20b8-478d-4a76-a730-328449a98a4e",
    "outputId": "eee5aeaa-518d-48b2-ce15-24b117bee2d1"
   },
   "outputs": [
    {
     "name": "stdout",
     "output_type": "stream",
     "text": [
      "tensor(0.6718, device='cuda:0')\n"
     ]
    },
    {
     "name": "stderr",
     "output_type": "stream",
     "text": [
      "Setting `pad_token_id` to `eos_token_id`:None for open-end generation.\n",
      "A decoder-only architecture is being used, but right-padding was detected! For correct generation results, please set `padding_side='left'` when initializing the tokenizer.\n"
     ]
    },
    {
     "name": "stdout",
     "output_type": "stream",
     "text": [
      "[' Will the Albany in Georgia reach a hundred thousand occupants before the one in New York? Albany, Georgia City in Georgia, United States Albany, GA has around 75,000 people Albany, NY has almost 100,000 people', ' Is the language used in Saint Vincent and the Grenadines rooted in English? Saint Vincent and the Grenadines Country in the Caribbean The primary language spoken in Saint Vincent and the Grenadines is Vincentian Creole. Vincentian Creole is English-based, with elements of French, Antillean Creole, and indigenous South American and African languages.', ' Is greed the most prevalent of the Seven Deadly Sins? Greed an inordinate or insatiable longing, especially for wealth, status, and power Greed is a longing for wealth and power. White collar crime involves businesses stealing money or assets from people.  5-10% of arrests per 100,000 arrests were for  white collar crime according to Department of Justice statistics. Gluttony is the overindulgence in food or similar things. 39.8% of US adults were classified as overweight according to the National Center for Health Statistics.', ' Would the top of Mount Fuji stick out of the Sea of Japan?  Sea of Japan Marginal sea between Japan, Russia and Korea The average depth of the Sea of Japan is  5,748 feet (1,752 metres) and its maximum depth is 12,276 feet (3,742 metres) Mount Fuji is 3,776.24 metres (12,389.2 ft) tall. ', \" Was Lil Jon's top ranked Billboard song a collaboration with a member of The Lox? Lil Jon American rapper, record producer and DJ from Georgia Lil Jon's highest ranked billboard song was Yeah. Yeah was a collaboration between Lil Jon, Usher, and Ludacris. The Lox is a rap trio consisting of: Styles P, Sheek Louch, and Jadakiss.\", ' Is Miami a city on the American West Coast? Miami City in Florida, United States Miami is a city in the state of Florida. Florida is the southernmost state on the American East Coast.', ' Can the Swiss Guard fill the Virginia General Assembly chairs? Swiss Guard Military of Vatican City The Virginia General Assembly has 140 seats. The Swiss Guard is an honour guard of Vatican City that consists of 135 men.', \" Did any country in Portuguese Colonial War share Switzerlands role in WWII? Portuguese Colonial War 1961–1974 armed conflicts in Africa between Portugal and independence movements The Portuguese Colonial War was between Portugal and several groups including People's Movement for Liberation of Angola. Switzerland remained neutral in World War II and did not get involved. Portugal stayed out of world affairs during World War II.\"]\n"
     ]
    }
   ],
   "source": [
    "gen = model.forward_generate(input_ids, attention_mask)\n",
    "label = a['labels'].to(device)\n",
    "loss = nn.CrossEntropyLoss()(gen.view(-1, gen.size(-1)), label.view(-1))\n",
    "print(loss)\n",
    "print(model.generate(input_ids, attention_mask, 10))\n"
   ]
  },
  {
   "cell_type": "code",
   "execution_count": 25,
   "id": "76a5e867-38b4-42bc-a0ae-06313c638571",
   "metadata": {
    "colab": {
     "base_uri": "https://localhost:8080/"
    },
    "id": "76a5e867-38b4-42bc-a0ae-06313c638571",
    "outputId": "ffcfada5-2ab1-4e9a-fa45-cb2672c87158"
   },
   "outputs": [],
   "source": [
    "def compile_output(model, dataloader, tokenizer, device=\"cuda\" if torch.cuda.is_available() else \"cpu\"):\n",
    "    model.eval()\n",
    "    predictions = {}\n",
    "    with torch.no_grad():\n",
    "        for batch in dataloader:\n",
    "            input_ids = batch[\"input_ids\"].to(device)\n",
    "            attention_mask = batch[\"attention_mask\"].to(device)\n",
    "            item_ids = batch['id']\n",
    "            generated_text = model.generate(input_ids, attention_mask)\n",
    "            for i, item_id in enumerate(item_ids):\n",
    "                label_text = generated_text[i]\n",
    "                if tokenizer.sep_token not in label_text:\n",
    "                    print('SEP not in generated text')\n",
    "                    continue\n",
    "                decomposition_text, paragraph_text = label_text.split(tokenizer.sep_token)\n",
    "                decomposition_text = decomposition_text.strip()\n",
    "                paragraph_text = paragraph_text.replace(tokenizer.eos_token, \"\").strip().rstrip()\n",
    "                decomposition_list = [q.strip() for q in decomposition_text.split(\"?\") if q.strip()]\n",
    "                decomposition_list = [q + \"?\" for q in decomposition_list]\n",
    "                paragraph_list = [p.strip() for p in paragraph_text.split(\"|\") if p.strip()]\n",
    "                predictions[item_id] = {\n",
    "                    \"decomposition\": decomposition_list,\n",
    "                    \"paragraphs\": paragraph_list\n",
    "                }\n",
    "    return predictions\n"
   ]
  },
  {
   "cell_type": "code",
   "execution_count": 26,
   "id": "06477e72-1fe7-4e50-928c-596671766d5b",
   "metadata": {
    "id": "06477e72-1fe7-4e50-928c-596671766d5b",
    "outputId": "2abc5381-ff94-4edc-bbee-1750410929cc"
   },
   "outputs": [],
   "source": [
    "def compile_output(model, dataloader, tokenizer, device=\"cuda\" if torch.cuda.is_available() else \"cpu\"):\n",
    "    model.eval()\n",
    "    predictions = {}\n",
    "    with torch.no_grad():\n",
    "        for batch in dataloader:\n",
    "            input_ids = batch[\"input_ids\"].to(device)\n",
    "            attention_mask = batch[\"attention_mask\"].to(device)\n",
    "            item_ids = batch['id']\n",
    "            generated_text = model.generate(input_ids, attention_mask)\n",
    "            for i, item_id in enumerate(item_ids):\n",
    "                label_text = generated_text[i]\n",
    "                if tokenizer.sep_token not in label_text:\n",
    "                    print('SEP not in generated text')\n",
    "                    continue\n",
    "                decomposition_text, paragraph_text = label_text.split(tokenizer.sep_token)\n",
    "                decomposition_text = decomposition_text.strip()\n",
    "                paragraph_text = paragraph_text.replace(tokenizer.eos_token, \"\").strip().rstrip()\n",
    "                decomposition_list = [q.strip() for q in decomposition_text.split(\"?\") if q.strip()]\n",
    "                decomposition_list = [q + \"?\" for q in decomposition_list]\n",
    "                paragraph_list = [p.strip() for p in paragraph_text.split(\"|\") if p.strip()]\n",
    "                predictions[item_id] = {\n",
    "                    \"decomposition\": decomposition_list,\n",
    "                    \"paragraphs\": paragraph_list\n",
    "                }\n",
    "    return predictions\n"
   ]
  },
  {
   "cell_type": "markdown",
   "id": "8bgopA0ERhJD",
   "metadata": {
    "id": "8bgopA0ERhJD"
   },
   "source": [
    "# Eval"
   ]
  },
  {
   "cell_type": "code",
   "execution_count": 27,
   "id": "267b3e56-b0f3-4921-8bec-bd811e13e1e2",
   "metadata": {
    "id": "267b3e56-b0f3-4921-8bec-bd811e13e1e2"
   },
   "outputs": [
    {
     "name": "stderr",
     "output_type": "stream",
     "text": [
      "Setting `pad_token_id` to `eos_token_id`:None for open-end generation.\n",
      "A decoder-only architecture is being used, but right-padding was detected! For correct generation results, please set `padding_side='left'` when initializing the tokenizer.\n"
     ]
    },
    {
     "name": "stdout",
     "output_type": "stream",
     "text": [
      " Will the Albany in Georgia reach a hundred thousand occupants before the one in New York? Albany, Georgia City in Georgia, United States Albany, GA has around 75,000 people Albany, NY has almost 100,000 people\n"
     ]
    },
    {
     "ename": "ValueError",
     "evalue": "too many values to unpack (expected 2)",
     "output_type": "error",
     "traceback": [
      "\u001b[0;31m---------------------------------------------------------------------------\u001b[0m",
      "\u001b[0;31mValueError\u001b[0m                                Traceback (most recent call last)",
      "Cell \u001b[0;32mIn[27], line 12\u001b[0m\n\u001b[1;32m     10\u001b[0m label_text \u001b[38;5;241m=\u001b[39m generated_text[i]\n\u001b[1;32m     11\u001b[0m \u001b[38;5;28mprint\u001b[39m(label_text)\n\u001b[0;32m---> 12\u001b[0m decomposition_text, paragraph_text \u001b[38;5;241m=\u001b[39m label_text\u001b[38;5;241m.\u001b[39msplit(tokenizer\u001b[38;5;241m.\u001b[39msep_token)\n\u001b[1;32m     13\u001b[0m decomposition_text \u001b[38;5;241m=\u001b[39m decomposition_text\u001b[38;5;241m.\u001b[39mstrip()\n\u001b[1;32m     14\u001b[0m paragraph_text \u001b[38;5;241m=\u001b[39m paragraph_text\u001b[38;5;241m.\u001b[39mreplace(tokenizer\u001b[38;5;241m.\u001b[39meos_token, \u001b[38;5;124m\"\u001b[39m\u001b[38;5;124m\"\u001b[39m)\u001b[38;5;241m.\u001b[39mstrip()\u001b[38;5;241m.\u001b[39mrstrip()\n",
      "\u001b[0;31mValueError\u001b[0m: too many values to unpack (expected 2)"
     ]
    }
   ],
   "source": [
    "d = val_data[:3]\n",
    "dd = QuestionDataset(d, tokenizer)\n",
    "dloader = DataLoader(dd, batch_size=8, shuffle=False)\n",
    "for batch in dloader:\n",
    "    input_ids = batch[\"input_ids\"].to(device)\n",
    "    attention_mask = batch[\"attention_mask\"].to(device)\n",
    "    item_ids = batch['id']\n",
    "    generated_text = model.generate(input_ids, attention_mask)\n",
    "    for i, item_id in enumerate(item_ids):\n",
    "        label_text = generated_text[i]\n",
    "        print(label_text)\n",
    "        decomposition_text, paragraph_text = label_text.split(tokenizer.sep_token)\n",
    "        decomposition_text = decomposition_text.strip()\n",
    "        paragraph_text = paragraph_text.replace(tokenizer.eos_token, \"\").strip().rstrip()\n",
    "        decomposition_list = [q.strip() for q in decomposition_text.split(\"?\") if q.strip()]\n",
    "        decomposition_list = [q + \"?\" for q in decomposition_list]\n",
    "        paragraph_list = [p.strip() for p in paragraph_text.split(\"|\") if p.strip()]\n",
    "        print(decomposition_list)\n",
    "        print(paragraph_list)\n"
   ]
  }
 ],
 "metadata": {
  "colab": {
   "provenance": []
  },
  "kernelspec": {
   "display_name": "Python 3 (ipykernel)",
   "language": "python",
   "name": "python3"
  },
  "language_info": {
   "codemirror_mode": {
    "name": "ipython",
    "version": 3
   },
   "file_extension": ".py",
   "mimetype": "text/x-python",
   "name": "python",
   "nbconvert_exporter": "python",
   "pygments_lexer": "ipython3",
   "version": "3.11.9"
  }
 },
 "nbformat": 4,
 "nbformat_minor": 5
}
